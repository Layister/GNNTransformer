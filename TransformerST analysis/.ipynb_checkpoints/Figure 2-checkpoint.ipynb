{
 "cells": [
  {
   "cell_type": "code",
   "execution_count": 1,
   "id": "48167acf16a0d546",
   "metadata": {
    "ExecuteTime": {
     "end_time": "2025-04-21T06:03:20.606463Z",
     "start_time": "2025-04-21T06:03:20.602524Z"
    }
   },
   "outputs": [],
   "source": [
    "#To visualize Figure 2 in our manuscript, please use the **'Figure2.ipynb'** notebook, \n",
    "#which is based on the R language. Ensure R is enabled in your Jupyter notebook; \n",
    "#if not, install the IRkernel package in R with these commands:\n",
    "\n",
    "#install.packages('IRkernel')\n",
    "#IRkernel::installspec(user = FALSE)\n",
    "\n",
    "#To run the notebook, simply adjust the following paths:\n",
    "\n",
    "#base_result_path for the TransformerST output, \n",
    "#base_data_path for spatial transcriptomics data, \n",
    "#and base_output_path to visualize the ARI for all 12 samples.\n",
    "#The data and results are accessible through the following link:\n",
    "#https://drive.google.com/drive/u/0/folders/1w78k4P6eqaedRkUmac_GdjiU7tavW5P4"
   ]
  },
  {
   "cell_type": "code",
   "execution_count": null,
   "id": "fb327b8e9747248c",
   "metadata": {},
   "outputs": [],
   "source": [
    "!pip install requests"
   ]
  },
  {
   "cell_type": "code",
   "execution_count": 1,
   "id": "aa756c27981fa07",
   "metadata": {
    "ExecuteTime": {
     "end_time": "2025-04-21T06:01:40.968426Z",
     "start_time": "2025-04-21T06:01:40.686045Z"
    }
   },
   "outputs": [
    {
     "ename": "NameError",
     "evalue": "name 'library' is not defined",
     "output_type": "error",
     "traceback": [
      "\u001b[0;31m---------------------------------------------------------------------------\u001b[0m",
      "\u001b[0;31mNameError\u001b[0m                                 Traceback (most recent call last)",
      "Cell \u001b[0;32mIn[1], line 1\u001b[0m\n\u001b[0;32m----> 1\u001b[0m \u001b[43mlibrary\u001b[49m(mclust)\n\u001b[1;32m      2\u001b[0m library(ggplot2)\n\u001b[1;32m      3\u001b[0m library(patchwork)\n",
      "\u001b[0;31mNameError\u001b[0m: name 'library' is not defined"
     ]
    }
   ],
   "source": [
    "library(mclust)\n",
    "library(ggplot2)\n",
    "library(patchwork)\n",
    "library(Seurat)\n",
    "library(mclust)\n",
    "library(dplyr)\n",
    "options(bitmapType = 'cairo')\n",
    "\n",
    "args <- commandArgs(trailingOnly = TRUE)\n",
    "#sample <- args[1]"
   ]
  },
  {
   "cell_type": "code",
   "execution_count": null,
   "id": "c09da7448ca197af",
   "metadata": {},
   "outputs": [],
   "source": [
    "#The data and results are accessible through the following link:\n",
    "#https://drive.google.com/drive/u/0/folders/1w78k4P6eqaedRkUmac_GdjiU7tavW5P4\n"
   ]
  },
  {
   "cell_type": "code",
   "execution_count": null,
   "id": "6b2f55bbc1cb83a1",
   "metadata": {},
   "outputs": [],
   "source": [
    "#read clustering result"
   ]
  },
  {
   "cell_type": "code",
   "execution_count": null,
   "id": "a3e3ba40aa4af32e",
   "metadata": {},
   "outputs": [],
   "source": [
    "sample <- \"151508\"\n",
    "base_result_path <- \"/media/cyzhao/New_Volume/output/DLPFC/\"\n",
    "base_data_path <- \"/media/cyzhao/New_Volume/data/DLPFC/\"\n",
    "\n",
    "# Construct full paths for the files\n",
    "sp_data_path <- file.path(base_result_path, sample, \"/Seurat_final.rds\")\n",
    "metadata_file_path <- file.path(base_data_path, sample, \"metadata.tsv\")\n",
    "sp_data <- readRDS(sp_data_path)\n",
    "\n",
    "##### SpatialDimPlot\n",
    "metadata <- read.table(metadata_file_path, sep='\\t', header=TRUE)\n"
   ]
  },
  {
   "cell_type": "code",
   "execution_count": null,
   "id": "e23738e119a40e62",
   "metadata": {},
   "outputs": [],
   "source": [
    "our_cluster_path <- file.path(base_result_path, sample, \"TransformerST/metadata.tsv\")\n",
    "bayesSpace_cluster_path <- file.path(base_result_path, sample, \"BayesSpace/metadata.tsv\")\n",
    "spaGCN_cluster_path <- file.path(base_result_path, sample, \"SpaGCN/metadata.tsv\")\n",
    "giotto_cluster_path <- file.path(base_result_path, sample, \"Giotto/metadata.tsv\")\n",
    "stLearn_cluster_path <- file.path(base_result_path, sample, \"stLearn/metadata.tsv\")\n",
    "ccst_cluster_path <- file.path(base_result_path, sample, \"lambdaI0.3/metadata.tsv\")\n",
    "stagate_cluster_path <- file.path(base_result_path, sample, \"STAGATE1/metadata.tsv\")\n",
    "const_cluster_path <- file.path(base_result_path, sample, \"conST/metadata.tsv\")\n",
    "deepst_cluster_path <- file.path(base_result_path, sample, \"DEEPST/metadata.tsv\")\n",
    "\n",
    "# Read the metadata for each cluster\n",
    "Our_cluster <- read.table(our_cluster_path, sep='\\t', header=TRUE)\n",
    "BayesSpace_cluster <- read.table(bayesSpace_cluster_path, sep='\\t', header=TRUE)\n",
    "spaGCN_cluster <- read.table(spaGCN_cluster_path, sep='\\t', header=TRUE)\n",
    "Giotto_cluster <- read.table(giotto_cluster_path, sep='\\t', header=TRUE)\n",
    "stLearn_cluster <- read.table(stLearn_cluster_path, sep='\\t', header=TRUE)\n",
    "ccst_cluster <- read.table(ccst_cluster_path, sep='\\t', header=TRUE)\n",
    "STAGATE_cluster <- read.table(stagate_cluster_path, sep='\\t', header=TRUE)\n",
    "CONST_cluster <- read.table(const_cluster_path, sep='\\t', header=TRUE)\n",
    "DEEPST_cluster <- read.table(deepst_cluster_path, sep='\\t', header=TRUE)\n",
    "# Set row names for Giotto_cluster\n",
    "row.names(Giotto_cluster) <- Giotto_cluster$cell_ID\n",
    "\n",
    "truth <- as.factor(metadata$layer_guess)\n",
    "truth <- factor(truth, levels=c('WM', 'nan', 'Layer6', 'Layer5', 'Layer4', 'Layer3', 'Layer2', 'Layer1'))"
   ]
  },
  {
   "cell_type": "code",
   "execution_count": null,
   "id": "cbf515bcf845bd25",
   "metadata": {},
   "outputs": [],
   "source": []
  },
  {
   "cell_type": "code",
   "execution_count": null,
   "id": "69a85f446e64c3a6",
   "metadata": {},
   "outputs": [],
   "source": [
    "sp_data <- AddMetaData(sp_data, truth, col.name = 'layer_guess')\n",
    "sp_data <- AddMetaData(sp_data, spaGCN_cluster$refined_pred, col.name = 'SpaGCN')\n",
    "sp_data <- AddMetaData(sp_data, Our_cluster$TransformerST, col.name = 'TransformerST')\n",
    "sp_data <- AddMetaData(sp_data, BayesSpace_cluster$spatial.cluster, col.name = 'BayesSpace')\n",
    "sp_data <- AddMetaData(sp_data, Giotto_cluster[, 'HMRF_cluster', drop=F], col.name = 'Giotto')\n",
    "sp_data <- AddMetaData(sp_data, stLearn_cluster$X_pca_kmeans, col.name = 'stLearn')\n",
    "sp_data <- AddMetaData(sp_data, BayesSpace_cluster$kmeans, col.name = 'Kmeans')\n",
    "sp_data <- AddMetaData(sp_data, BayesSpace_cluster$louvain, col.name = 'Louvain')\n",
    "sp_data <- AddMetaData(sp_data, BayesSpace_cluster$mclust, col.name = 'Mclust')\n",
    "sp_data <- AddMetaData(sp_data, STAGATE_cluster$STAGATE, col.name = 'STAGATE')\n",
    "sp_data <- AddMetaData(sp_data, ccst_cluster$CCST, col.name = 'CCST')\n",
    "sp_data <- AddMetaData(sp_data, CONST_cluster$conST_refine, col.name = 'CONST')\n",
    "sp_data <- AddMetaData(sp_data, DEEPST_cluster$DEEPST, col.name = 'DEEPSTST')"
   ]
  },
  {
   "cell_type": "code",
   "execution_count": null,
   "id": "fc4048491524fdf5",
   "metadata": {},
   "outputs": [],
   "source": [
    "#calculating the Adjusted Rand Index (ARI) for various clustering methods"
   ]
  },
  {
   "cell_type": "code",
   "execution_count": null,
   "id": "b624da9d80ba3312",
   "metadata": {},
   "outputs": [],
   "source": [
    "SpaGCN_ARI = adjustedRandIndex(sp_data@meta.data$layer_guess, sp_data@meta.data$SpaGCN)\n",
    "# Seurat_ARI = adjustedRandIndex(sp_data@meta.data$layer_guess, sp_data@meta.data$Seurat)\n",
    "Our_ARI = adjustedRandIndex(sp_data@meta.data$layer_guess, sp_data@meta.data$TransformerST)\n",
    "BayesSpace_ARI = adjustedRandIndex(sp_data@meta.data$layer_guess, sp_data@meta.data$BayesSpace)\n",
    "Giotto_ARI = adjustedRandIndex(sp_data@meta.data$layer_guess, sp_data@meta.data$Giotto)\n",
    "stLearn_ARI = adjustedRandIndex(sp_data@meta.data$layer_guess, sp_data@meta.data$stLearn)\n",
    "Kmeans_ARI = adjustedRandIndex(sp_data@meta.data$layer_guess, sp_data@meta.data$Kmeans)\n",
    "Mclust_ARI = adjustedRandIndex(sp_data@meta.data$layer_guess, sp_data@meta.data$Mclust)\n",
    "Louvain_ARI = adjustedRandIndex(sp_data@meta.data$layer_guess, sp_data@meta.data$Louvain)\n",
    "CCST_ARI = adjustedRandIndex(sp_data@meta.data$layer_guess, sp_data@meta.data$CCST)\n",
    "CONST_ARI = adjustedRandIndex(sp_data@meta.data$layer_guess, sp_data@meta.data$CONST)\n",
    "DEEPST_ARI = adjustedRandIndex(sp_data@meta.data$layer_guess, sp_data@meta.data$DEEPST)\n",
    "STAGATE_ARI = adjustedRandIndex(sp_data@meta.data$layer_guess, sp_data@meta.data$STAGATE)"
   ]
  },
  {
   "cell_type": "code",
   "execution_count": null,
   "id": "31fa01c36348183",
   "metadata": {},
   "outputs": [],
   "source": [
    "#visualize the performance of various clustering methods for a single sample"
   ]
  },
  {
   "cell_type": "code",
   "execution_count": null,
   "id": "10447287405fee2",
   "metadata": {},
   "outputs": [],
   "source": [
    "df_clusters <- data.frame(layer_guess = sp_data@meta.data$layer_guess,\n",
    "                          SpaGCN = as.factor(sp_data@meta.data$SpaGCN),\n",
    "                          # Seurat = as.factor(sp_data@meta.data$Seurat),\n",
    "                          TransformerST = as.factor(sp_data@meta.data$TransformerST),\n",
    "                          BayesSpace = as.factor(sp_data@meta.data$BayesSpace),\n",
    "                          Kmeans = as.factor(sp_data@meta.data$Kmeans),\n",
    "                          Mclust = as.factor(sp_data@meta.data$Mclust),\n",
    "                          Louvain = as.factor(sp_data@meta.data$Louvain),\n",
    "                          Giotto = as.factor(sp_data@meta.data$Giotto),\n",
    "                          stLearn = as.factor(sp_data@meta.data$stLearn),\n",
    "                          CCST = as.factor(sp_data@meta.data$CCST),\n",
    "                          STAGATE = as.factor(sp_data@meta.data$STAGATE),\n",
    "                          CONST= as.factor(sp_data@meta.data$CONST),\n",
    "                          DEEPST= as.factor(sp_data@meta.data$DEEPST)\n",
    "                          )\n",
    "\n",
    "df <- sp_data@images$slice1@coordinates\n",
    "df <- cbind(df, df_clusters)\n",
    "p0 <- ggplot(df, aes(imagecol, imagerow, color=layer_guess)) + geom_point(stroke=0, size=1.1) + ggtitle('Ground Truth') +\n",
    "  coord_fixed() + scale_y_reverse() + theme_void() + viridis::scale_color_viridis(option=\"plasma\", discrete = T)+theme(plot.title = element_text(hjust = 0.5))\n",
    "\n",
    "# p1 <- ggplot(df, aes(imagecol, imagerow, color=Seurat)) + geom_point(stroke=0, size=1.1) + ggtitle(paste('Seurat: ARI=', round(Seurat_ARI, 3))) +\n",
    "#   coord_fixed() + scale_y_reverse() + theme_void() + viridis::scale_color_viridis(option=\"plasma\", discrete = T)\n",
    "p1 <- ggplot(df, aes(imagecol, imagerow, color=Mclust)) + geom_point(stroke=0, size=1.1) + ggtitle(paste('Mclust: ARI=', round(Mclust_ARI, 3))) +\n",
    "    coord_fixed() + scale_y_reverse() + theme_void() + viridis::scale_color_viridis(option=\"plasma\", discrete = T)+theme(plot.title = element_text(hjust = 0.5))+ theme(legend.position=\"none\")\n",
    "p2 <- ggplot(df, aes(imagecol, imagerow, color=Kmeans)) + geom_point(stroke=0, size=1.1) + ggtitle(paste('Kmeans: ARI=', round(Kmeans_ARI, 3))) +\n",
    "  coord_fixed() + scale_y_reverse() + theme_void() + viridis::scale_color_viridis(option=\"plasma\", discrete = T)+theme(plot.title = element_text(hjust = 0.5))+ theme(legend.position=\"none\")\n",
    "p3 <- ggplot(df, aes(imagecol, imagerow, color=Louvain)) + geom_point(stroke=0, size=1.1) + ggtitle(paste('Louvain: ARI=', round(Louvain_ARI, 3))) +\n",
    "  coord_fixed() + scale_y_reverse() + theme_void() + viridis::scale_color_viridis(option=\"plasma\", discrete = T)+theme(plot.title = element_text(hjust = 0.5))+ theme(legend.position=\"none\")\n",
    "p4 <- ggplot(df, aes(imagecol, imagerow, color=Giotto)) + geom_point(stroke=0, size=1.1) + ggtitle(paste('Giotto: ARI=', round(Giotto_ARI, 3))) +\n",
    "  coord_fixed() + scale_y_reverse() + theme_void() + viridis::scale_color_viridis(option=\"plasma\", discrete = T)+theme(plot.title = element_text(hjust = 0.5))+ theme(legend.position=\"none\")\n",
    "\n",
    "p5 <- ggplot(df, aes(imagecol, imagerow, color=stLearn)) + geom_point(stroke=0, size=1.1) + ggtitle(paste('StLearn: ARI=', round(stLearn_ARI, 3))) +\n",
    "  coord_fixed() + scale_y_reverse() + theme_void() + viridis::scale_color_viridis(option=\"plasma\", discrete = T)+theme(plot.title = element_text(hjust = 0.5))+ theme(legend.position=\"none\")\n",
    "\n",
    "p10 <- ggplot(df, aes(imagecol, imagerow, color=TransformerST)) + geom_point(stroke=0, size=1.1) + ggtitle(paste('TransformerST: ARI=', round(Our_ARI, 3))) +\n",
    "  coord_fixed() + scale_y_reverse() + theme_void() + viridis::scale_color_viridis(option=\"plasma\", discrete = T)+theme(plot.title = element_text(hjust = 0.5))\n",
    "\n",
    "p7 <- ggplot(df, aes(imagecol, imagerow, color=BayesSpace)) + geom_point(stroke=0, size=1.1) + ggtitle(paste('BayesSpace: ARI=', round(BayesSpace_ARI, 3))) +\n",
    "  coord_fixed() + scale_y_reverse() + theme_void() + viridis::scale_color_viridis(option=\"plasma\", discrete = T)+theme(plot.title = element_text(hjust = 0.5))+ theme(legend.position=\"none\")\n",
    "\n",
    "p6 <- ggplot(df, aes(imagecol, imagerow, color=SpaGCN)) + geom_point(stroke=0, size=1.1) + ggtitle(paste('SpaGCN: ARI=', round(SpaGCN_ARI, 3))) +\n",
    "  coord_fixed() + scale_y_reverse() + theme_void() + viridis::scale_color_viridis(option=\"plasma\", discrete = T)+theme(plot.title = element_text(hjust = 0.5))+ theme(legend.position=\"none\")\n",
    "p8 <- ggplot(df, aes(imagecol, imagerow, color=CCST)) + geom_point(stroke=0, size=1.1) + ggtitle(paste('CCST: ARI=', round(CCST_ARI, 3))) +\n",
    "  coord_fixed() + scale_y_reverse() + theme_void() + viridis::scale_color_viridis(option=\"plasma\", discrete = T)+theme(plot.title = element_text(hjust = 0.5))+ theme(legend.position=\"none\")\n",
    "p9 <- ggplot(df, aes(imagecol, imagerow, color=STAGATE)) + geom_point(stroke=0, size=1.1) + ggtitle(paste('STAGATE: ARI=', round(STAGATE_ARI, 3))) +\n",
    "  coord_fixed() + scale_y_reverse() + theme_void() + viridis::scale_color_viridis(option=\"plasma\", discrete = T)+theme(plot.title = element_text(hjust = 0.5))+ theme(legend.position=\"none\")\n",
    "p11 <- ggplot(df, aes(imagecol, imagerow, color=CONST)) + geom_point(stroke=0, size=1.1) + ggtitle(paste('CONST: ARI=', round(CONST_ARI, 3))) +\n",
    "  coord_fixed() + scale_y_reverse() + theme_void() + viridis::scale_color_viridis(option=\"plasma\", discrete = T)+theme(plot.title = element_text(hjust = 0.5))+ theme(legend.position=\"none\")\n",
    "p12 <- ggplot(df, aes(imagecol, imagerow, color=DEEPST)) + geom_point(stroke=0, size=1.1) + ggtitle(paste('DEEPST: ARI=', round(DEEPST_ARI, 3))) +\n",
    "  coord_fixed() + scale_y_reverse() + theme_void() + viridis::scale_color_viridis(option=\"plasma\", discrete = T)+theme(plot.title = element_text(hjust = 0.5))+ theme(legend.position=\"none\")\n",
    "p1 +p2+p3+p4+ p5 + p6 +p7+p8+ p9+p10+theme(legend.key.size = unit(0.1, 'cm'),legend.title = element_blank())+p11+p12+plot_layout(ncol = 3, widths = c(1,1,1), heights = c(1,1,1,1))\n",
    "# p0+plot_layout(ncol = 5, widths = c(1,1,1), heights = c(1,1,1,1))\n"
   ]
  },
  {
   "cell_type": "code",
   "execution_count": null,
   "id": "1d416501e0748927",
   "metadata": {},
   "outputs": [],
   "source": [
    "#visualize the performance of various clustering methods with all 12 samples"
   ]
  },
  {
   "cell_type": "code",
   "execution_count": null,
   "id": "af925d443ea9fcee",
   "metadata": {},
   "outputs": [],
   "source": [
    "base_output_path <- \"./output/DLPFC/\"\n",
    "list.samples <- c(\"151507\", \"151508\", \"151509\", \"151510\", \"151669\", \"151670\", \"151671\", \"151672\", \"151673\", \"151674\", \"151675\", \"151676\")\n",
    "\n",
    "list.methods <- c( \"Mclust\",\"Kmeans\", \"Louvain\",\"Giotto\",\"stLearn\", \"SpaGCN\", \"BayesSpace\",\"CCST\",\"STAGATE\",\"CONST\",\"DEEPST\", \"TransformerST\")\n",
    "\n",
    "##### Generate data\n",
    "c1 <- c()\n",
    "c2 <- c()\n",
    "c3 <- c()\n",
    "\n",
    "for (sample in list.samples) {\n",
    "  file.results <- file.path(base_output_path, sample, '/Comparison/comparison.tsv')\n",
    "  df.results <- read.table(file.results, sep='\\t', header=T)\n",
    "  for (method in list.methods){\n",
    "    cluster <- df.results  %>% select(c(method))\n",
    "    ARI <- adjustedRandIndex(x = df.results$layer_guess, y = cluster[, 1])\n",
    "    \n",
    "    c1 <- c(c1, method)\n",
    "    c2 <- c(c2, sample)\n",
    "    c3 <- c(c3, ARI)\n",
    "  }\n",
    "}\n",
    "\n",
    "df.comp <- data.frame(method = c1,\n",
    "                      sample = c2,\n",
    "                      ARI = c3)\n",
    "\n",
    "\n",
    "##### Plot results\n",
    "df.comp$method <- as.factor(df.comp$method)\n",
    "df.comp$method <- factor(df.comp$method, \n",
    "                         levels = c(\"Mclust\",\"Kmeans\", \"Louvain\",\"Giotto\",\"stLearn\", \"SpaGCN\", \"BayesSpace\", \"CCST\",\"STAGATE\",\"CONST\",\"DEEPST\",\"TransformerST\"))\n",
    "\n",
    "\n",
    "ggplot(df.comp, aes(method, ARI)) + \n",
    "  geom_boxplot(width=0.5) + \n",
    "  geom_jitter(width = 0.1, size=1) +\n",
    "  theme_bw() + \n",
    "  theme(panel.background = element_blank(),\n",
    "        panel.grid = element_blank(), \n",
    "        axis.title.y = element_blank(), \n",
    "        axis.text = element_text(angle = 90,size=10)\n",
    "        )"
   ]
  },
  {
   "cell_type": "code",
   "execution_count": null,
   "id": "7fb14133e151f6e",
   "metadata": {},
   "outputs": [],
   "source": []
  }
 ],
 "metadata": {
  "kernelspec": {
   "display_name": "py38tor19",
   "language": "python",
   "name": "py38tor19"
  },
  "language_info": {
   "codemirror_mode": {
    "name": "ipython",
    "version": 3
   },
   "file_extension": ".py",
   "mimetype": "text/x-python",
   "name": "python",
   "nbconvert_exporter": "python",
   "pygments_lexer": "ipython3",
   "version": "3.8.12"
  }
 },
 "nbformat": 4,
 "nbformat_minor": 5
}
